{
 "cells": [
  {
   "cell_type": "code",
   "execution_count": 1,
   "metadata": {
    "collapsed": true
   },
   "outputs": [],
   "source": [
    "#导入库\n",
    "import numpy as np\n",
    "import tensorflow as tf\n",
    "import scipy.io as sio\n",
    "from PIL import Image\n",
    "import matplotlib.pyplot as plt"
   ]
  },
  {
   "cell_type": "code",
   "execution_count": 2,
   "metadata": {
    "collapsed": true
   },
   "outputs": [],
   "source": [
    "#设置参数\n",
    "#style权重和content权重可以控制结果是趋于风格还是趋于内容\n",
    "STYLE_WEIGHT=1.5\n",
    "CONTENT_WEIGHT=1\n",
    "#style的层数越多，就越能挖掘更多的风格特征，content的层数越深，得到的特征越抽象\n",
    "STYLE_LAYERS=['relu1_1', 'relu2_1', 'relu3_1', 'relu4_1', 'relu5_1']\n",
    "CONTENT_LAYERS=['relu4_2', 'relu5_2']\n",
    "VGG_PATH = 'imagenet-vgg-verydeep-19.mat'\n",
    "#VGG模型结构\n",
    "VGG_LAYERS=(\n",
    "        'conv1_1', 'relu1_1', 'conv1_2', 'relu1_2', 'pool1',\n",
    "        'conv2_1', 'relu2_1', 'conv2_2', 'relu2_2', 'pool2',\n",
    "        'conv3_1', 'relu3_1', 'conv3_2', 'relu3_2', 'conv3_3', 'relu3_3', 'conv3_4', 'relu3_4','pool3',\n",
    "        'conv4_1', 'relu4_1', 'conv4_2', 'relu4_2', 'conv4_3', 'relu4_3', 'conv4_4', 'relu4_4', 'pool4',\n",
    "        'conv5_1', 'relu5_1', 'conv5_2', 'relu5_2', 'conv5_3', 'relu5_3', 'conv5_4', 'relu5_4', 'pool5'\n",
    "    )\n",
    "POOL_TYPE='max'"
   ]
  },
  {
   "cell_type": "code",
   "execution_count": 3,
   "metadata": {
    "collapsed": true
   },
   "outputs": [],
   "source": [
    "#定义vgg网络\n",
    "def net_vgg19(input_image,layers,vgg_path,pool_type='max'):\n",
    "    weights=sio.loadmat(vgg_path)['layers'][0]\n",
    "    net=input_image\n",
    "    network={}\n",
    "    for i,name in enumerate(layers):\n",
    "        layer_type=name[:4]\n",
    "        if layer_type=='conv':\n",
    "            kernels,bias=weights[i][0][0][0][0]\n",
    "            kernels=np.transpose(kernels,(1,0,2,3))\n",
    "            conv=tf.nn.conv2d(net,tf.constant(kernels),strides=(1,1,1,1),padding='SAME',name=name)\n",
    "            net=tf.nn.bias_add(conv,bias.reshape(-1))\n",
    "            net=tf.nn.relu(net)\n",
    "        elif layer_type=='pool':\n",
    "            if pool_type == 'avg':\n",
    "                net=tf.nn.avg_pool(net, ksize=(1, 2, 2, 1), strides=(1, 2, 2, 1),padding='SAME')\n",
    "            else:\n",
    "                net=tf.nn.max_pool(net, ksize=(1, 2, 2, 1), strides=(1, 2, 2, 1),padding='SAME')\n",
    "            \n",
    "        network[name]=net\n",
    "        \n",
    "    return network"
   ]
  },
  {
   "cell_type": "code",
   "execution_count": 4,
   "metadata": {
    "collapsed": true
   },
   "outputs": [],
   "source": [
    "#定义损失误差\n",
    "def loss_function(style_image,content_image,target_image):\n",
    "    style_features=net_vgg19([style_image],VGG_LAYERS,VGG_PATH,POOL_TYPE)\n",
    "    content_features=net_vgg19([content_image],VGG_LAYERS,VGG_PATH,POOL_TYPE)\n",
    "    target_features=net_vgg19([target_image],VGG_LAYERS,VGG_PATH,POOL_TYPE)\n",
    "    \n",
    "    loss=0.0\n",
    "    \n",
    "    for layer in CONTENT_LAYERS:\n",
    "        _,height,width,channel=map(lambda i:i.value,content_features[layer].get_shape())\n",
    "        content_size=height*width*channel\n",
    "        loss_content=tf.nn.l2_loss(target_features[layer]-content_features[layer])/content_size\n",
    "        loss+=CONTENT_WEIGHT*loss_content\n",
    "        \n",
    "    for layer in STYLE_LAYERS:\n",
    "        target_feature=target_features[layer]\n",
    "        style_feature=style_features[layer]\n",
    "        \n",
    "        _,height,width,channel=map(lambda i:i.value,target_feature.get_shape())\n",
    "    \n",
    "        style_size=height*width*channel\n",
    "        target_feature=tf.reshape(target_feature,(-1,channel))\n",
    "        target_gram=tf.matmul(tf.transpose(target_feature),target_feature)/style_size\n",
    "    \n",
    "        style_feature=tf.reshape(style_feature,(-1,channel))\n",
    "        style_gram=tf.matmul(tf.transpose(style_feature),style_feature)/style_size\n",
    "    \n",
    "        loss_style=tf.nn.l2_loss(target_gram-style_gram)/style_size\n",
    "    \n",
    "        loss+=STYLE_WEIGHT*loss_style\n",
    "        \n",
    "    return loss"
   ]
  },
  {
   "cell_type": "code",
   "execution_count": null,
   "metadata": {
    "collapsed": true
   },
   "outputs": [],
   "source": [
    "#定义stylize函数,进行训练\n",
    "def stylize(style_image,content_image,learning_rate=0.1,epochs=100):\n",
    "    \n",
    "    target = tf.Variable(tf.random_normal(content_image.shape),dtype=tf.float32)\n",
    "    style_input = tf.constant(style_image,dtype=tf.float32)\n",
    "    content_input = tf.constant(content_image, dtype=tf.float32)\n",
    "    \n",
    "    cost=loss_function(style_input,content_input,target)\n",
    "    #定义优化器\n",
    "    train=tf.train.AdamOptimizer(learning_rate).minimize(cost)\n",
    "    with tf.Session(config=tf.ConfigProto(log_device_placement=True)) as sess:\n",
    "        tf.global_variables_initializer().run()\n",
    "        for i in range(epochs):\n",
    "            _,loss,target_img=sess.run([train,cost,target])\n",
    "            \n",
    "            if(i+1)%100==0:\n",
    "                print('迭代: %d ,loss: %.8f'%(i+1,loss))\n",
    "                image=np.clip(target_img+128,0,255).astype(np.uint8)\n",
    "                img=Image.fromarray(image)\n",
    "                plt.imshow(img)\n",
    "                plt.axis('on')\n",
    "                plt.title('Image')\n",
    "                plt.show()"
   ]
  },
  {
   "cell_type": "code",
   "execution_count": null,
   "metadata": {
    "collapsed": false
   },
   "outputs": [],
   "source": [
    "style_image=Image.open('shan-style.jpg')\n",
    "style_image=np.array(style_image).astype(np.float32)-128.0\n",
    "content_image=Image.open('shan.jpg')\n",
    "content_image=np.array(content_image).astype(np.float32)-128.0\n",
    "stylize(style_image,content_image,0.2,1000)"
   ]
  },
  {
   "cell_type": "code",
   "execution_count": null,
   "metadata": {
    "collapsed": true
   },
   "outputs": [],
   "source": [
    "content_image=Image.open('shan.jpg')\n",
    "plt.imshow(content_image)\n",
    "plt.axis('on')\n",
    "plt.title('source image')\n",
    "plt.show()\n",
    "style_image=Image.open('shan-style.jpg')\n",
    "plt.imshow(style_image)\n",
    "plt.axis('on')\n",
    "plt.title('style image')\n",
    "plt.show()"
   ]
  }
 ],
 "metadata": {
  "kernelspec": {
   "display_name": "Python [default]",
   "language": "python",
   "name": "python3"
  },
  "language_info": {
   "codemirror_mode": {
    "name": "ipython",
    "version": 3
   },
   "file_extension": ".py",
   "mimetype": "text/x-python",
   "name": "python",
   "nbconvert_exporter": "python",
   "pygments_lexer": "ipython3",
   "version": "3.5.2"
  }
 },
 "nbformat": 4,
 "nbformat_minor": 1
}
