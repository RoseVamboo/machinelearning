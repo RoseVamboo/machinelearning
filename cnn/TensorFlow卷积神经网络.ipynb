{
 "cells": [
  {
   "cell_type": "code",
   "execution_count": 1,
   "metadata": {
    "collapsed": true
   },
   "outputs": [],
   "source": [
    "import os\n",
    "import sys\n",
    "import tarfile\n",
    "import matplotlib.pyplot as plt\n",
    "import numpy as np\n",
    "import tensorflow as tf\n",
    "from six.moves import urllib\n",
    "from tensorflow.python.framework import ops\n",
    "ops.reset_default_graph()\n",
    "\n",
    "\n",
    "sess=tf.Session()"
   ]
  },
  {
   "cell_type": "code",
   "execution_count": 2,
   "metadata": {
    "collapsed": true
   },
   "outputs": [],
   "source": [
    "#声明模型参数\n",
    "#将训练集和测试集的批量大小设为128\n",
    "batch_size=128\n",
    "#每迭代50次打印出状态值\n",
    "output_every=50\n",
    "#迭代次数20000\n",
    "generations=2000\n",
    "#每迭代500次，我们将在测试集的批量数据上进行模型评估\n",
    "eval_every=500\n",
    "image_height=32\n",
    "image_width=32\n",
    "#随机裁剪图片的大小\n",
    "crop_height=24\n",
    "crop_width=24\n",
    "#颜色分为3通道\n",
    "num_channels=3\n",
    "#目标分类设为10类\n",
    "num_targets=10\n",
    "data_dir='temp1'\n",
    "#声明存储数据和批量图片的位置\n",
    "extract_folder='cifar-10-batches-bin'"
   ]
  },
  {
   "cell_type": "code",
   "execution_count": 3,
   "metadata": {
    "collapsed": true
   },
   "outputs": [],
   "source": [
    "#推荐降低学习率来训练更好的模型\n",
    "#采用指数级减小学习率,学习率初始值设为0.1，每迭代250次指数级减少学习率，因子为10%\n",
    "learning_rate=0.1\n",
    "lr_decay=0.9\n",
    "num_gens_to_wait=250.\n",
    "#设置读取二进制CIFA0图片的参数\n",
    "image_vec_length=image_height*image_width*num_channels\n",
    "record_length=1+image_vec_length"
   ]
  },
  {
   "cell_type": "code",
   "execution_count": 4,
   "metadata": {
    "collapsed": false
   },
   "outputs": [],
   "source": [
    "#设置下载CIFA-10图像数据集的URL和数据目录\n",
    "data_dir='temp83'\n",
    "if not os.path.exists(data_dir):\n",
    "    os.makedirs(data_dir)\n",
    "cifar10_url='http://www.cs.toronto.edu/~kriz/cifar-10-binary.tar.gz'\n",
    "data_file=os.path.join(data_dir,'cifar-10-binary.tar.gz')\n",
    "if os.path.isfile(data_file):\n",
    "    pass\n",
    "else:\n",
    "    # Download file\n",
    "    def progress(block_num, block_size, total_size):\n",
    "        progress_info = [cifar10_url, float(block_num * block_size) / float(total_size) * 100.0]\n",
    "        print('\\r Downloading {} - {:.2f}%'.format(*progress_info), end=\"\")\n",
    "    filepath, _ = urllib.request.urlretrieve(cifar10_url, data_file, progress)\n",
    "    # Extract file\n",
    "    tarfile.open(filepath, 'r:gz').extractall(data_dir)"
   ]
  },
  {
   "cell_type": "code",
   "execution_count": 5,
   "metadata": {
    "collapsed": true
   },
   "outputs": [],
   "source": [
    "#使用read_cifar_files()函数建立图片读取器,返回一个随机打乱的图片\n",
    "def read_cifar_files(filename_queue,distort_image=True):\n",
    "    reader=tf.FixedLengthRecordReader(record_bytes=record_length)\n",
    "    key,record_string=reader.read(filename_queue)\n",
    "    record_bytes=tf.decode_raw(record_string,tf.uint8)\n",
    "    \n",
    "    #Extract label\n",
    "    image_label=tf.cast(tf.slice(record_bytes,[0],[1]),tf.int32)\n",
    "    #Extract image\n",
    "    image_extracted=tf.reshape(tf.slice(record_bytes,[1],[image_vec_length]),[num_channels,image_height,image_width])\n",
    "    \n",
    "    # Reshape image\n",
    "    image_uint8image=tf.transpose(image_extracted,[1,2,0])\n",
    "    reshaped_image=tf.cast(image_uint8image,tf.float32)\n",
    "    \n",
    "    #Randomly Crop image\n",
    "    final_image=tf.image.resize_image_with_crop_or_pad(reshaped_image,crop_width,crop_height)\n",
    "    if distort_image:\n",
    "        final_image=tf.image.random_flip_left_right(final_image)\n",
    "        final_image=tf.image.random_brightness(final_image,max_delta=63)\n",
    "        final_image=tf.image.random_contrast(final_image,lower=0.2,upper=1.8)\n",
    "        #NOrmalize whitening\n",
    "        final_image=tf.image.per_image_standardization(final_image)\n",
    "        return(final_image,image_label)"
   ]
  },
  {
   "cell_type": "code",
   "execution_count": 6,
   "metadata": {
    "collapsed": true
   },
   "outputs": [],
   "source": [
    "#声明批处理使用的图像管道填充函数\n",
    "def input_pipeline(batch_size,train_logical=True):\n",
    "    if train_logical:\n",
    "        files=[os.path.join(data_dir,extract_folder,'data_batch_{}.bin'.format(i))for i in range(1,6)]\n",
    "    else:\n",
    "        files=[os.path.join(data_dir,extract_folder,'test_batch.bin')]\n",
    "    \n",
    "    filename_queue=tf.train.string_input_producer(files)\n",
    "    image,label=read_cifar_files(filename_queue)\n",
    "    \n",
    "    min_after_dequeue=1000\n",
    "    capacity=min_after_dequeue+3*batch_size\n",
    "    example_batch,label_batch=tf.train.shuffle_batch([image,label],batch_size,capacity,min_after_dequeue)\n",
    "    return (example_batch,label_batch)"
   ]
  },
  {
   "cell_type": "code",
   "execution_count": 7,
   "metadata": {
    "collapsed": true
   },
   "outputs": [],
   "source": [
    "#声明模型函数\n",
    "#采用两个卷基层,接着使用三个全连接层\n",
    "def cifar_cnn_model(input_images,batch_size,train_logical=True):\n",
    "    def truncated_normal_var(name,shape,dtype):\n",
    "        return (tf.get_variable(name=name,shape=shape,dtype=dtype,initializer=tf.truncated_normal_initializer(stddev=0.05)))\n",
    "    def zero_var(name,shape,dtype):\n",
    "        return (tf.get_variable(name=name,shape=shape,dtype=dtype,initializer=tf.constant_initializer(0.0)))\n",
    "    \n",
    "    #第一层卷积\n",
    "    with tf.variable_scope('conv1') as scope:\n",
    "        conv1_kernel=truncated_normal_var(name='conv_kernel1',shape=[5,5,3,64],dtype=tf.float32)\n",
    "        conv1=tf.nn.conv2d(input_images,conv1_kernel,[1,1,1,1],padding='SAME')\n",
    "        #初始化并添加偏置项\n",
    "        conv1_bias=zero_var(name='conv_bias1',shape=[64],dtype=tf.float32)\n",
    "        conv1_add_bias=tf.nn.bias_add(conv1,conv1_bias)\n",
    "        #  Relu\n",
    "        relu_conv1=tf.nn.relu(conv1_add_bias)\n",
    "    #最大池化层\n",
    "    pool1=tf.nn.max_pool(relu_conv1,ksize=[1,3,3,1],strides=[1,2,2,1],padding='SAME',name='pool_layer1')\n",
    "        \n",
    "    #局部响应归一化 LRN (Local Response Normalization)\n",
    "    norm1=tf.nn.lrn(pool1,depth_radius=5,bias=2.0,alpha=1e-3,beta=0.75,name='norm1')\n",
    "        \n",
    "    # 第二个卷积层\n",
    "    with tf.variable_scope('conv2') as scope:\n",
    "        #卷积核5x5,\n",
    "        conv2_kernel=truncated_normal_var(name='conv_kernel2',shape=[5,5,64,64],dtype=tf.float32)\n",
    "        conv2=tf.nn.conv2d(norm1,conv2_kernel,[1,1,1,1],padding='SAME')\n",
    "        #初始化 并 添加偏置项\n",
    "        conv2_bias=zero_var(name='conv_bias2',shape=[64],dtype=tf.float32)\n",
    "        conv2_add_bias=tf.nn.bias_add(conv2,conv2_bias)\n",
    "        #Relu\n",
    "        relu_conv2=tf.nn.relu(conv2_add_bias)\n",
    "            \n",
    "    #最大池化层\n",
    "    pool2=tf.nn.max_pool(relu_conv2,ksize=[1,3,3,1],strides=[1,2,2,1],padding='SAME',name='pool_layer2')\n",
    "    \n",
    "    #局部响应归一化\n",
    "    norm2=tf.nn.lrn(pool2,depth_radius=5,bias=2.0,alpha=1e-3,beta=.075,name='norm2')\n",
    "    \n",
    "    #将输出形状重新调整为单个矩阵，以便为完全连接的层进行相乘\n",
    "    reshaped_output=tf.reshape(norm2,[batch_size,-1])\n",
    "    reshaped_dim=reshaped_output.get_shape()[1].value\n",
    "    \n",
    "    \n",
    "    #第一个全连接层\n",
    "    with tf.variable_scope('full1')as scope:\n",
    "        #全连接层有384个输出\n",
    "        full_weight1=truncated_normal_var(name='full_nult1',shape=[reshaped_dim,384],dtype=tf.float32)\n",
    "        full_bias1=zero_var(name='full_bias1',shape=[384],dtype=tf.float32)\n",
    "        full_layer1=tf.nn.relu(tf.add(tf.matmul(reshaped_output,full_weight1),full_bias1))\n",
    "        \n",
    "    #第二个全连接层\n",
    "    with tf.variable_scope('full2') as scope:\n",
    "        #第二个全连接层有192个输出\n",
    "        full_weight2=truncated_normal_var(name='full_mult2',shape=[384,192],dtype=tf.float32)\n",
    "        full_bias2=zero_var(name='full_bias2',shape=[192],dtype=tf.float32)\n",
    "        full_layer2=tf.nn.relu(tf.add(tf.matmul(full_layer1,full_weight2),full_bias2))\n",
    "        \n",
    "    #最后一层全连接层-->产生10个分类输出\n",
    "    with tf.variable_scope('full3') as scope:\n",
    "        full_weight3=truncated_normal_var(name='full_mult3',shape=[192,num_targets],dtype=tf.float32)\n",
    "        full_bias3=zero_var(name='full_bias3',shape=[num_targets],dtype=tf.float32)\n",
    "        final_output=tf.add(tf.matmul(full_layer2,full_weight3),full_bias3)\n",
    "        \n",
    "    return (final_output)"
   ]
  },
  {
   "cell_type": "code",
   "execution_count": 8,
   "metadata": {
    "collapsed": true
   },
   "outputs": [],
   "source": [
    "#创建损失函数\n",
    "def cifar_loss(logits,targets):\n",
    "    targets=tf.squeeze(tf.cast(targets,tf.int32))\n",
    "    #计算交叉熵损失\n",
    "    cross_entropy=tf.nn.sparse_softmax_cross_entropy_with_logits(logits=logits,labels=targets)\n",
    "    #计算平均损失\n",
    "    cross_entropy_mean=tf.reduce_mean(cross_entropy,name='cross_entropy')\n",
    "    return(cross_entropy_mean)"
   ]
  },
  {
   "cell_type": "code",
   "execution_count": 9,
   "metadata": {
    "collapsed": true
   },
   "outputs": [],
   "source": [
    "#定义训练步骤函数，在训练步骤中学习率将指数减小\n",
    "def train_step(loss_value,generation_num):\n",
    "    #当经过迭代后，学习率将指数衰退\n",
    "    model_learning_rate=tf.train.exponential_decay(learning_rate,generation_num,num_gens_to_wait,lr_decay,staircase=True)\n",
    "    \n",
    "    #创建优化器\n",
    "    my_optimizer=tf.train.GradientDescentOptimizer(model_learning_rate)\n",
    "    #初始化训练步骤\n",
    "    train_step=my_optimizer.minimize(loss_value)\n",
    "    return (train_step)"
   ]
  },
  {
   "cell_type": "code",
   "execution_count": 10,
   "metadata": {
    "collapsed": true
   },
   "outputs": [],
   "source": [
    "#批量创建准确度函数\n",
    "def accuracy_of_batch(logits,targets):\n",
    "    #确保目标向量是integer类型，并且移除额外的维度\n",
    "    targets=tf.squeeze(tf.cast(targets,tf.int32))\n",
    "    #通过那个回归值最大来获取预测值\n",
    "    batch_predictions=tf.cast(tf.argmax(logits,1),tf.int32)\n",
    "    #检查批次是否相同\n",
    "    predicted_correctly=tf.equal(batch_predictions,targets)\n",
    "    \n",
    "    accuracy=tf.reduce_mean(tf.cast(predicted_correctly,tf.float32))\n",
    "    return(accuracy)"
   ]
  },
  {
   "cell_type": "code",
   "execution_count": 11,
   "metadata": {
    "collapsed": false
   },
   "outputs": [
    {
     "name": "stdout",
     "output_type": "stream",
     "text": [
      "获取数据\n",
      "创建 CIFAR10 Model.\n",
      "声明损失函数\n",
      "创建训练操作.\n",
      "初始化变量\n",
      "开始训练\n",
      "迭代次数 50:Loss=1.87833\n",
      "迭代次数 100:Loss=1.88443\n",
      "迭代次数 150:Loss=1.59662\n",
      "迭代次数 200:Loss=1.66931\n",
      "迭代次数 250:Loss=1.66828\n",
      "迭代次数 300:Loss=1.47664\n",
      "迭代次数 350:Loss=1.53239\n",
      "迭代次数 400:Loss=1.60921\n",
      "迭代次数 450:Loss=1.32321\n",
      "迭代次数 500:Loss=1.40910\n",
      "  --  测试精度 =42.97%.\n",
      "迭代次数 550:Loss=1.41188\n",
      "迭代次数 600:Loss=1.27697\n",
      "迭代次数 650:Loss=1.45077\n",
      "迭代次数 700:Loss=1.43395\n",
      "迭代次数 750:Loss=1.17393\n",
      "迭代次数 800:Loss=1.19319\n",
      "迭代次数 850:Loss=1.06746\n",
      "迭代次数 900:Loss=1.17391\n",
      "迭代次数 950:Loss=1.27312\n",
      "迭代次数 1000:Loss=1.03174\n",
      "  --  测试精度 =56.25%.\n",
      "迭代次数 1050:Loss=1.03347\n",
      "迭代次数 1100:Loss=1.30734\n",
      "迭代次数 1150:Loss=1.04994\n",
      "迭代次数 1200:Loss=0.86557\n",
      "迭代次数 1250:Loss=1.07776\n",
      "迭代次数 1300:Loss=1.18892\n",
      "迭代次数 1350:Loss=1.04428\n",
      "迭代次数 1400:Loss=1.08864\n",
      "迭代次数 1450:Loss=1.06254\n",
      "迭代次数 1500:Loss=0.94355\n",
      "  --  测试精度 =64.06%.\n",
      "迭代次数 1550:Loss=0.77539\n",
      "迭代次数 1600:Loss=1.10781\n",
      "迭代次数 1650:Loss=0.85841\n",
      "迭代次数 1700:Loss=1.06180\n",
      "迭代次数 1750:Loss=1.00367\n",
      "迭代次数 1800:Loss=0.83163\n",
      "迭代次数 1850:Loss=0.84562\n",
      "迭代次数 1900:Loss=0.91411\n",
      "迭代次数 1950:Loss=1.06432\n",
      "迭代次数 2000:Loss=0.97034\n",
      "  --  测试精度 =72.66%.\n"
     ]
    }
   ],
   "source": [
    "#获取数据\n",
    "print('获取数据')\n",
    "#初始化数据管道\n",
    "images,targets=input_pipeline(batch_size,train_logical=True)\n",
    "#从管道中批量获取测试图像\n",
    "test_images,test_targets=input_pipeline(batch_size,train_logical=False)\n",
    "\n",
    "#初始化训练模型\n",
    "print('创建 CIFAR10 Model.')\n",
    "with tf.variable_scope('model_definition') as scope:\n",
    "    #声明训练网络模型\n",
    "    model_output=cifar_cnn_model(images,batch_size)\n",
    "    #在该范围内重复使用变量\n",
    "    scope.reuse_variables()\n",
    "    test_output=cifar_cnn_model(test_images,batch_size)\n",
    "    \n",
    "#声明损失函数\n",
    "print('声明损失函数')\n",
    "loss=cifar_loss(model_output,targets)\n",
    "\n",
    "#创建精度函数\n",
    "accuracy=accuracy_of_batch(test_output,test_targets)\n",
    "\n",
    "#创建训练操作\n",
    "print('创建训练操作.')\n",
    "generation_num=tf.Variable(0,trainable=False)\n",
    "train_op=train_step(loss,generation_num)\n",
    "\n",
    "#初始化变量\n",
    "print('初始化变量')\n",
    "init=tf.global_variables_initializer()\n",
    "sess.run(init)\n",
    "\n",
    "#运行start_queue_runners()函数，启动图像管道\n",
    "tf.train.start_queue_runners(sess=sess)\n",
    "\n",
    "#训练CIFAR model\n",
    "print('开始训练')\n",
    "train_loss=[]\n",
    "test_accuracy=[]\n",
    "for i in range(generations):\n",
    "    _,loss_value=sess.run([train_op,loss])\n",
    "    \n",
    "    if(i+1)%output_every==0:\n",
    "        train_loss.append(loss_value)\n",
    "        output='迭代次数 {}:Loss={:.5f}'.format((i+1),loss_value)\n",
    "        print(output)\n",
    "        \n",
    "    if(i+1)%eval_every==0:\n",
    "        [temp_accuracy]=sess.run([accuracy])\n",
    "        test_accuracy.append(temp_accuracy)\n",
    "        acc_output='  --  测试精度 ={:.2f}%.'.format(100.*temp_accuracy)\n",
    "        print(acc_output)"
   ]
  },
  {
   "cell_type": "code",
   "execution_count": 12,
   "metadata": {
    "collapsed": false
   },
   "outputs": [
    {
     "data": {
      "image/png": "[encoded data removed]",
      "text/plain": [
       "<matplotlib.figure.Figure at 0xd092278>"
      ]
     },
     "metadata": {},
     "output_type": "display_data"
    },
    {
     "data": {
      "image/png": "[encoded data removed]",
      "text/plain": [
       "<matplotlib.figure.Figure at 0xe2fe2b0>"
      ]
     },
     "metadata": {},
     "output_type": "display_data"
    }
   ],
   "source": [
    "#打印损失和精度\n",
    "eval_indices=range(0,generations,eval_every)\n",
    "output_indices=range(0,generations,output_every)\n",
    "\n",
    "plt.plot(output_indices,train_loss,'k-')\n",
    "plt.title('Softmax loss per generation')\n",
    "plt.xlabel('generation')\n",
    "plt.ylabel('softmax loss')\n",
    "plt.show()\n",
    "\n",
    "plt.plot(eval_indices,test_accuracy,'k-')\n",
    "plt.title('Test Accuracy')\n",
    "plt.xlabel('generation')\n",
    "plt.ylabel('accuracy')\n",
    "plt.show()"
   ]
  }
 ],
 "metadata": {
  "anaconda-cloud": {},
  "kernelspec": {
   "display_name": "Python [default]",
   "language": "python",
   "name": "python3"
  },
  "language_info": {
   "codemirror_mode": {
    "name": "ipython",
    "version": 3
   },
   "file_extension": ".py",
   "mimetype": "text/x-python",
   "name": "python",
   "nbconvert_exporter": "python",
   "pygments_lexer": "ipython3",
   "version": "3.5.2"
  }
 },
 "nbformat": 4,
 "nbformat_minor": 1
}
